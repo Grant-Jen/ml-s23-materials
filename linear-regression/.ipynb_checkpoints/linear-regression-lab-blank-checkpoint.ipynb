{
 "cells": [
  {
   "cell_type": "markdown",
   "id": "a3105af4-db8f-4066-a4a6-5a599932674c",
   "metadata": {},
   "source": [
    "# Linear Regression Lab"
   ]
  },
  {
   "cell_type": "code",
<<<<<<< Updated upstream
   "execution_count": null,
   "id": "13f397ae-6771-4a67-a345-b8b72dc083f4",
   "metadata": {},
   "outputs": [],
=======
   "execution_count": 2,
   "id": "13f397ae-6771-4a67-a345-b8b72dc083f4",
   "metadata": {},
   "outputs": [
    {
     "data": {
      "text/html": [
       "<div>\n",
       "<style scoped>\n",
       "    .dataframe tbody tr th:only-of-type {\n",
       "        vertical-align: middle;\n",
       "    }\n",
       "\n",
       "    .dataframe tbody tr th {\n",
       "        vertical-align: top;\n",
       "    }\n",
       "\n",
       "    .dataframe thead th {\n",
       "        text-align: right;\n",
       "    }\n",
       "</style>\n",
       "<table border=\"1\" class=\"dataframe\">\n",
       "  <thead>\n",
       "    <tr style=\"text-align: right;\">\n",
       "      <th></th>\n",
       "      <th>sqft</th>\n",
       "      <th>bedrooms</th>\n",
       "      <th>price</th>\n",
       "    </tr>\n",
       "  </thead>\n",
       "  <tbody>\n",
       "    <tr>\n",
       "      <th>0</th>\n",
       "      <td>2104</td>\n",
       "      <td>3</td>\n",
       "      <td>399900</td>\n",
       "    </tr>\n",
       "    <tr>\n",
       "      <th>1</th>\n",
       "      <td>1600</td>\n",
       "      <td>3</td>\n",
       "      <td>329900</td>\n",
       "    </tr>\n",
       "    <tr>\n",
       "      <th>2</th>\n",
       "      <td>2400</td>\n",
       "      <td>3</td>\n",
       "      <td>369000</td>\n",
       "    </tr>\n",
       "    <tr>\n",
       "      <th>3</th>\n",
       "      <td>1416</td>\n",
       "      <td>2</td>\n",
       "      <td>232000</td>\n",
       "    </tr>\n",
       "    <tr>\n",
       "      <th>4</th>\n",
       "      <td>3000</td>\n",
       "      <td>4</td>\n",
       "      <td>539900</td>\n",
       "    </tr>\n",
       "    <tr>\n",
       "      <th>5</th>\n",
       "      <td>1985</td>\n",
       "      <td>4</td>\n",
       "      <td>299900</td>\n",
       "    </tr>\n",
       "    <tr>\n",
       "      <th>6</th>\n",
       "      <td>1534</td>\n",
       "      <td>3</td>\n",
       "      <td>314900</td>\n",
       "    </tr>\n",
       "    <tr>\n",
       "      <th>7</th>\n",
       "      <td>1427</td>\n",
       "      <td>3</td>\n",
       "      <td>198999</td>\n",
       "    </tr>\n",
       "    <tr>\n",
       "      <th>8</th>\n",
       "      <td>1380</td>\n",
       "      <td>3</td>\n",
       "      <td>212000</td>\n",
       "    </tr>\n",
       "    <tr>\n",
       "      <th>9</th>\n",
       "      <td>1494</td>\n",
       "      <td>3</td>\n",
       "      <td>242500</td>\n",
       "    </tr>\n",
       "    <tr>\n",
       "      <th>10</th>\n",
       "      <td>1940</td>\n",
       "      <td>4</td>\n",
       "      <td>239999</td>\n",
       "    </tr>\n",
       "    <tr>\n",
       "      <th>11</th>\n",
       "      <td>2000</td>\n",
       "      <td>3</td>\n",
       "      <td>347000</td>\n",
       "    </tr>\n",
       "    <tr>\n",
       "      <th>12</th>\n",
       "      <td>1890</td>\n",
       "      <td>3</td>\n",
       "      <td>329999</td>\n",
       "    </tr>\n",
       "    <tr>\n",
       "      <th>13</th>\n",
       "      <td>4478</td>\n",
       "      <td>5</td>\n",
       "      <td>699900</td>\n",
       "    </tr>\n",
       "    <tr>\n",
       "      <th>14</th>\n",
       "      <td>1268</td>\n",
       "      <td>3</td>\n",
       "      <td>259900</td>\n",
       "    </tr>\n",
       "    <tr>\n",
       "      <th>15</th>\n",
       "      <td>2300</td>\n",
       "      <td>4</td>\n",
       "      <td>449900</td>\n",
       "    </tr>\n",
       "    <tr>\n",
       "      <th>16</th>\n",
       "      <td>1320</td>\n",
       "      <td>2</td>\n",
       "      <td>299900</td>\n",
       "    </tr>\n",
       "    <tr>\n",
       "      <th>17</th>\n",
       "      <td>1236</td>\n",
       "      <td>3</td>\n",
       "      <td>199900</td>\n",
       "    </tr>\n",
       "    <tr>\n",
       "      <th>18</th>\n",
       "      <td>2609</td>\n",
       "      <td>4</td>\n",
       "      <td>499998</td>\n",
       "    </tr>\n",
       "    <tr>\n",
       "      <th>19</th>\n",
       "      <td>3031</td>\n",
       "      <td>4</td>\n",
       "      <td>599000</td>\n",
       "    </tr>\n",
       "    <tr>\n",
       "      <th>20</th>\n",
       "      <td>1767</td>\n",
       "      <td>3</td>\n",
       "      <td>252900</td>\n",
       "    </tr>\n",
       "    <tr>\n",
       "      <th>21</th>\n",
       "      <td>1888</td>\n",
       "      <td>2</td>\n",
       "      <td>255000</td>\n",
       "    </tr>\n",
       "    <tr>\n",
       "      <th>22</th>\n",
       "      <td>1604</td>\n",
       "      <td>3</td>\n",
       "      <td>242900</td>\n",
       "    </tr>\n",
       "    <tr>\n",
       "      <th>23</th>\n",
       "      <td>1962</td>\n",
       "      <td>4</td>\n",
       "      <td>259900</td>\n",
       "    </tr>\n",
       "    <tr>\n",
       "      <th>24</th>\n",
       "      <td>3890</td>\n",
       "      <td>3</td>\n",
       "      <td>573900</td>\n",
       "    </tr>\n",
       "    <tr>\n",
       "      <th>25</th>\n",
       "      <td>1100</td>\n",
       "      <td>3</td>\n",
       "      <td>249900</td>\n",
       "    </tr>\n",
       "    <tr>\n",
       "      <th>26</th>\n",
       "      <td>1458</td>\n",
       "      <td>3</td>\n",
       "      <td>464500</td>\n",
       "    </tr>\n",
       "    <tr>\n",
       "      <th>27</th>\n",
       "      <td>2526</td>\n",
       "      <td>3</td>\n",
       "      <td>469000</td>\n",
       "    </tr>\n",
       "    <tr>\n",
       "      <th>28</th>\n",
       "      <td>2200</td>\n",
       "      <td>3</td>\n",
       "      <td>475000</td>\n",
       "    </tr>\n",
       "    <tr>\n",
       "      <th>29</th>\n",
       "      <td>2637</td>\n",
       "      <td>3</td>\n",
       "      <td>299900</td>\n",
       "    </tr>\n",
       "    <tr>\n",
       "      <th>30</th>\n",
       "      <td>1839</td>\n",
       "      <td>2</td>\n",
       "      <td>349900</td>\n",
       "    </tr>\n",
       "    <tr>\n",
       "      <th>31</th>\n",
       "      <td>1000</td>\n",
       "      <td>1</td>\n",
       "      <td>169900</td>\n",
       "    </tr>\n",
       "    <tr>\n",
       "      <th>32</th>\n",
       "      <td>2040</td>\n",
       "      <td>4</td>\n",
       "      <td>314900</td>\n",
       "    </tr>\n",
       "    <tr>\n",
       "      <th>33</th>\n",
       "      <td>3137</td>\n",
       "      <td>3</td>\n",
       "      <td>579900</td>\n",
       "    </tr>\n",
       "    <tr>\n",
       "      <th>34</th>\n",
       "      <td>1811</td>\n",
       "      <td>4</td>\n",
       "      <td>285900</td>\n",
       "    </tr>\n",
       "    <tr>\n",
       "      <th>35</th>\n",
       "      <td>1437</td>\n",
       "      <td>3</td>\n",
       "      <td>249900</td>\n",
       "    </tr>\n",
       "    <tr>\n",
       "      <th>36</th>\n",
       "      <td>1239</td>\n",
       "      <td>3</td>\n",
       "      <td>229900</td>\n",
       "    </tr>\n",
       "    <tr>\n",
       "      <th>37</th>\n",
       "      <td>2132</td>\n",
       "      <td>4</td>\n",
       "      <td>345000</td>\n",
       "    </tr>\n",
       "    <tr>\n",
       "      <th>38</th>\n",
       "      <td>4215</td>\n",
       "      <td>4</td>\n",
       "      <td>549000</td>\n",
       "    </tr>\n",
       "    <tr>\n",
       "      <th>39</th>\n",
       "      <td>2162</td>\n",
       "      <td>4</td>\n",
       "      <td>287000</td>\n",
       "    </tr>\n",
       "    <tr>\n",
       "      <th>40</th>\n",
       "      <td>1664</td>\n",
       "      <td>2</td>\n",
       "      <td>368500</td>\n",
       "    </tr>\n",
       "    <tr>\n",
       "      <th>41</th>\n",
       "      <td>2238</td>\n",
       "      <td>3</td>\n",
       "      <td>329900</td>\n",
       "    </tr>\n",
       "    <tr>\n",
       "      <th>42</th>\n",
       "      <td>2567</td>\n",
       "      <td>4</td>\n",
       "      <td>314000</td>\n",
       "    </tr>\n",
       "    <tr>\n",
       "      <th>43</th>\n",
       "      <td>1200</td>\n",
       "      <td>3</td>\n",
       "      <td>299000</td>\n",
       "    </tr>\n",
       "    <tr>\n",
       "      <th>44</th>\n",
       "      <td>852</td>\n",
       "      <td>2</td>\n",
       "      <td>179900</td>\n",
       "    </tr>\n",
       "    <tr>\n",
       "      <th>45</th>\n",
       "      <td>1852</td>\n",
       "      <td>4</td>\n",
       "      <td>299900</td>\n",
       "    </tr>\n",
       "    <tr>\n",
       "      <th>46</th>\n",
       "      <td>1203</td>\n",
       "      <td>3</td>\n",
       "      <td>239500</td>\n",
       "    </tr>\n",
       "  </tbody>\n",
       "</table>\n",
       "</div>"
      ],
      "text/plain": [
       "    sqft  bedrooms   price\n",
       "0   2104         3  399900\n",
       "1   1600         3  329900\n",
       "2   2400         3  369000\n",
       "3   1416         2  232000\n",
       "4   3000         4  539900\n",
       "5   1985         4  299900\n",
       "6   1534         3  314900\n",
       "7   1427         3  198999\n",
       "8   1380         3  212000\n",
       "9   1494         3  242500\n",
       "10  1940         4  239999\n",
       "11  2000         3  347000\n",
       "12  1890         3  329999\n",
       "13  4478         5  699900\n",
       "14  1268         3  259900\n",
       "15  2300         4  449900\n",
       "16  1320         2  299900\n",
       "17  1236         3  199900\n",
       "18  2609         4  499998\n",
       "19  3031         4  599000\n",
       "20  1767         3  252900\n",
       "21  1888         2  255000\n",
       "22  1604         3  242900\n",
       "23  1962         4  259900\n",
       "24  3890         3  573900\n",
       "25  1100         3  249900\n",
       "26  1458         3  464500\n",
       "27  2526         3  469000\n",
       "28  2200         3  475000\n",
       "29  2637         3  299900\n",
       "30  1839         2  349900\n",
       "31  1000         1  169900\n",
       "32  2040         4  314900\n",
       "33  3137         3  579900\n",
       "34  1811         4  285900\n",
       "35  1437         3  249900\n",
       "36  1239         3  229900\n",
       "37  2132         4  345000\n",
       "38  4215         4  549000\n",
       "39  2162         4  287000\n",
       "40  1664         2  368500\n",
       "41  2238         3  329900\n",
       "42  2567         4  314000\n",
       "43  1200         3  299000\n",
       "44   852         2  179900\n",
       "45  1852         4  299900\n",
       "46  1203         3  239500"
      ]
     },
     "execution_count": 2,
     "metadata": {},
     "output_type": "execute_result"
    }
   ],
>>>>>>> Stashed changes
   "source": [
    "import numpy as np\n",
    "import matplotlib.pyplot as plt\n",
    "import pandas as pd\n",
    "\n",
    "df = pd.read_csv(\"housing.csv\")\n",
    "df"
   ]
  },
  {
   "cell_type": "code",
<<<<<<< Updated upstream
   "execution_count": null,
   "id": "2a2ecbcb-88fd-43d8-a148-4b92369a7782",
   "metadata": {},
   "outputs": [],
=======
   "execution_count": 3,
   "id": "2a2ecbcb-88fd-43d8-a148-4b92369a7782",
   "metadata": {},
   "outputs": [
    {
     "name": "stdout",
     "output_type": "stream",
     "text": [
      "Training data for x:  [2104 1600 2400 1416 3000 1985 1534 1427 1380 1494 1940 2000 1890 4478\n",
      " 1268 2300 1320 1236 2609 3031 1767 1888 1604 1962 3890 1100 1458 2526\n",
      " 2200 2637 1839 1000 2040 3137 1811 1437 1239 2132 4215 2162 1664 2238\n",
      " 2567 1200  852 1852 1203]\n",
      "Training data for y:  [399900 329900 369000 232000 539900 299900 314900 198999 212000 242500\n",
      " 239999 347000 329999 699900 259900 449900 299900 199900 499998 599000\n",
      " 252900 255000 242900 259900 573900 249900 464500 469000 475000 299900\n",
      " 349900 169900 314900 579900 285900 249900 229900 345000 549000 287000\n",
      " 368500 329900 314000 299000 179900 299900 239500]\n"
     ]
    }
   ],
>>>>>>> Stashed changes
   "source": [
    "# Set up our training data\n",
    "x_train = df['sqft'].to_numpy()\n",
    "y_train = df['price'].to_numpy()\n",
    "\n",
    "# To use only a subset of the training data, use a slice of the arrays above.\n",
    "\n",
    "print(\"Training data for x: \", x_train)\n",
    "print(\"Training data for y: \", y_train)"
   ]
  },
  {
   "cell_type": "code",
<<<<<<< Updated upstream
   "execution_count": null,
   "id": "89ca682e-05e9-473d-8007-167e833de517",
   "metadata": {},
   "outputs": [],
=======
   "execution_count": 4,
   "id": "89ca682e-05e9-473d-8007-167e833de517",
   "metadata": {},
   "outputs": [
    {
     "data": {
      "image/png": "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\n",
      "text/plain": [
       "<Figure size 640x480 with 1 Axes>"
      ]
     },
     "metadata": {},
     "output_type": "display_data"
    }
   ],
>>>>>>> Stashed changes
   "source": [
    "# Make a nice plot\n",
    "\n",
    "plt.scatter(x_train, y_train)\n",
    "plt.show()"
   ]
  },
  {
   "cell_type": "code",
<<<<<<< Updated upstream
   "execution_count": null,
   "id": "2c37d659-6c7e-4e75-a4d5-1b6cbe7be0e3",
   "metadata": {},
   "outputs": [],
=======
   "execution_count": 5,
   "id": "2c37d659-6c7e-4e75-a4d5-1b6cbe7be0e3",
   "metadata": {},
   "outputs": [
    {
     "data": {
      "image/png": "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\n",
      "text/plain": [
       "<Figure size 640x480 with 1 Axes>"
      ]
     },
     "metadata": {},
     "output_type": "display_data"
    }
   ],
>>>>>>> Stashed changes
   "source": [
    "# Make a nice plot with a line based on the equation y = wx + b\n",
    "\n",
    "plt.scatter(x_train, y_train)\n",
    "\n",
    "# Set up dummy values for w and b\n",
<<<<<<< Updated upstream
    "w = 0\n",
=======
    "w = 100\n",
>>>>>>> Stashed changes
    "b = 0\n",
    " \n",
    "# Generate points on our line y = wx + b to graph\n",
    "line_x_points = np.linspace(min(x_train), max(x_train), 100)\n",
    "line_y_points = [w * x + b for x in line_x_points]\n",
    "\n",
    "plt.plot(line_x_points, line_y_points, c='red')\n",
    "plt.show()"
   ]
  },
  {
   "cell_type": "code",
<<<<<<< Updated upstream
   "execution_count": null,
   "id": "c2b8d43e-6b7d-4295-be38-b3d578a38e89",
   "metadata": {},
   "outputs": [],
=======
   "execution_count": 13,
   "id": "c2b8d43e-6b7d-4295-be38-b3d578a38e89",
   "metadata": {},
   "outputs": [
    {
     "data": {
      "image/png": "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\n",
      "text/plain": [
       "<Figure size 640x480 with 1 Axes>"
      ]
     },
     "metadata": {},
     "output_type": "display_data"
    }
   ],
>>>>>>> Stashed changes
   "source": [
    "# Let's turn it into a function:\n",
    "\n",
    "def make_plot(x_train, y_train, w, b):\n",
    "    plt.scatter(x_train, y_train)\n",
    "\n",
    "    line_x_points = np.linspace(min(x_train), max(x_train), 100)\n",
    "    line_y_points = [w * x + b for x in line_x_points]\n",
    "    \n",
    "    plt.plot(line_x_points, line_y_points, c='red')\n",
    "    plt.show()\n",
    "    \n",
<<<<<<< Updated upstream
    "make_plot(x_train, y_train, 0, 0)"
=======
    "make_plot(x_train, y_train, 131, 90000)"
>>>>>>> Stashed changes
   ]
  },
  {
   "cell_type": "code",
<<<<<<< Updated upstream
   "execution_count": null,
=======
   "execution_count": 14,
>>>>>>> Stashed changes
   "id": "09c7c365-da60-4fcc-8e07-a3997c4c5d98",
   "metadata": {},
   "outputs": [],
   "source": [
    "# Let's define a function to predict y = f(x) = wx + b\n",
    "\n",
    "def make_prediction(x, w, b):\n",
<<<<<<< Updated upstream
    "    # CODE HERE\n",
    "    pass"
=======
    "    return (w*x + b)"
>>>>>>> Stashed changes
   ]
  },
  {
   "cell_type": "code",
<<<<<<< Updated upstream
   "execution_count": null,
=======
   "execution_count": 15,
>>>>>>> Stashed changes
   "id": "1ccf1ce4-5478-4442-b2c3-896b375f05b8",
   "metadata": {},
   "outputs": [],
   "source": [
    "# Let's define a function to compute the cost J(w, b) on a set of data:\n",
    "\n",
    "def compute_cost(x_data, y_data, w, b):\n",
    "    \"\"\"\n",
    "    x_data and y_data are lists\n",
    "    w and b are scalars\n",
    "    return: gradient of w, gradient of b\n",
    "    \"\"\"\n",
<<<<<<< Updated upstream
    "    \n",
    "    # CODE HERE\n",
    "    pass"
=======
    "    m = len(x_data)\n",
    "    total_cost = 0\n",
    "    for i in range(0, m):\n",
    "        y = y_data[i] #y**(i)\n",
    "        y_hat = make_prediction(x_data[i], w, b)\n",
    "        cost = (y_hat - y) ** 2 # u can use two stars for exponenets \n",
    "        total_cost += cost\n",
    "        \n",
    "    return (total_cost) / (2 * m)\n",
    "        "
>>>>>>> Stashed changes
   ]
  },
  {
   "cell_type": "code",
<<<<<<< Updated upstream
   "execution_count": null,
   "id": "7aa68c09-bcb3-4569-b14c-e411845b76ec",
   "metadata": {},
   "outputs": [],
   "source": [
    "# Output total cost for our data set:\n",
    "\n",
    "w = 0\n",
    "b = 0\n",
=======
   "execution_count": 17,
   "id": "7aa68c09-bcb3-4569-b14c-e411845b76ec",
   "metadata": {},
   "outputs": [
    {
     "name": "stdout",
     "output_type": "stream",
     "text": [
      "2123393642.6276596\n"
     ]
    }
   ],
   "source": [
    "# Output total cost for our data set:\n",
    "\n",
    "w = 120\n",
    "b = 100000\n",
>>>>>>> Stashed changes
    "\n",
    "print(compute_cost(x_train, y_train, w, b))"
   ]
  },
  {
   "cell_type": "code",
<<<<<<< Updated upstream
   "execution_count": null,
=======
   "execution_count": 19,
>>>>>>> Stashed changes
   "id": "76ebe600-a789-4c2b-ab1e-300784f5a8ca",
   "metadata": {},
   "outputs": [],
   "source": [
    "# Let's write a function to compute the gradient:\n",
    "\n",
    "def compute_gradient(x_data, y_data, w, b):\n",
    "    \"\"\"\n",
    "    x_data and y_data are lists\n",
    "    w and b are scalars\n",
    "    return: gradient of w, gradient of b\n",
    "    \"\"\"\n",
    "    \n",
<<<<<<< Updated upstream
    "    # CODE HERE\n",
    "    pass"
=======
    "    m = len(x_data)\n",
    "    w_gradient = 0\n",
    "    b_gradient = 0\n",
    "    \n",
    "    for i in range(0, m):\n",
    "        y = y_data[i] #y**(i)\n",
    "        y_hat = make_prediction(x_data[i], w, b)\n",
    "        \n",
    "        grad_w = (y_hat - y)*x_data[i] # u can use two stars for exponenets \n",
    "        w_gradient += grad_w\n",
    "        \n",
    "        grad_b = (y_hat - y) # u can use two stars for exponenets \n",
    "        b_gradient += grad_b\n",
    "        \n",
    "    return (w_gradient / m), (b_gradient / m)"
>>>>>>> Stashed changes
   ]
  },
  {
   "cell_type": "code",
<<<<<<< Updated upstream
   "execution_count": null,
   "id": "63126780-7331-489b-905a-737efac3dc8e",
   "metadata": {},
   "outputs": [],
   "source": [
    "# Let's write code to run gradient descent:\n",
    "\n",
    "w = 0\n",
    "b = 0\n",
    "ALPHA = .0000001\n",
    "\n",
    "# CODE HERE\n",
    "    \n",
    "print(\"Final w and b:\", w, b)"
=======
   "execution_count": 54,
   "id": "63126780-7331-489b-905a-737efac3dc8e",
   "metadata": {},
   "outputs": [
    {
     "name": "stdout",
     "output_type": "stream",
     "text": [
      "Final w and b: 165.3790603017745 9.604579305373814\n",
      "Final Cost: 2397774164.2389393\n"
     ]
    }
   ],
   "source": [
    "# Let's write code to run gradient descent:\n",
    "\n",
    "w = 0 #Can be any value to start\n",
    "b = 0 #Can be any value to start\n",
    "ALPHA = .00000001\n",
    "\n",
    "J_cost_list = []\n",
    "\n",
    "for i in range(0, 100000):\n",
    "    #print(\"Iteration:\", i)\n",
    "    #print(\"Current w:\", w, \"Current b:\" , b)\n",
    "    #print(\"Current cost:\", compute_cost(x_train, y_train, w, b))\n",
    "    J_cost_list.append(compute_cost(x_train, y_train, w, b))\n",
    "    #print()\n",
    "    gradient_w, gradient_b = compute_gradient(x_train, y_train, w, b)\n",
    "\n",
    "    w = w - ALPHA * gradient_w\n",
    "    b = b - ALPHA * gradient_b\n",
    "    \n",
    "print(\"Final w and b:\", w, b)\n",
    "#print(\"Cost List:\", J_cost_list)\n",
    "print(\"Final Cost:\", J_cost_list[len(J_cost_list)-1])"
>>>>>>> Stashed changes
   ]
  },
  {
   "cell_type": "code",
<<<<<<< Updated upstream
   "execution_count": null,
   "id": "816573d7-bd23-400b-b500-8e9bf4304cbd",
   "metadata": {},
   "outputs": [],
=======
   "execution_count": 55,
   "id": "816573d7-bd23-400b-b500-8e9bf4304cbd",
   "metadata": {},
   "outputs": [
    {
     "data": {
      "text/plain": [
       "<matplotlib.collections.PathCollection at 0x27be8db1a90>"
      ]
     },
     "execution_count": 55,
     "metadata": {},
     "output_type": "execute_result"
    },
    {
     "data": {
      "image/png": "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\n",
      "text/plain": [
       "<Figure size 640x480 with 1 Axes>"
      ]
     },
     "metadata": {},
     "output_type": "display_data"
    }
   ],
>>>>>>> Stashed changes
   "source": [
    "# Let's plot the cost as a function of number of iterations of the\n",
    "# gradient descent algorithm.\n",
    "\n",
<<<<<<< Updated upstream
    "# CODE HERE"
=======
    "plt.scatter(range(0, len(J_cost_list)), J_cost_list)"
>>>>>>> Stashed changes
   ]
  },
  {
   "cell_type": "code",
<<<<<<< Updated upstream
   "execution_count": null,
   "id": "cbcd0e8b-e695-403a-a6e0-eb69de5619c7",
   "metadata": {},
   "outputs": [],
   "source": [
    "# Produce final plot of our data and our line:\n",
    "\n",
=======
   "execution_count": 56,
   "id": "cbcd0e8b-e695-403a-a6e0-eb69de5619c7",
   "metadata": {},
   "outputs": [
    {
     "data": {
      "image/png": "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\n",
      "text/plain": [
       "<Figure size 640x480 with 1 Axes>"
      ]
     },
     "metadata": {},
     "output_type": "display_data"
    }
   ],
   "source": [
    "# Produce final plot of our data and our line:\n",
    "w = 165.3790603017745\n",
    "b = 9.604579305373814\n",
>>>>>>> Stashed changes
    "make_plot(x_train, y_train, w, b)"
   ]
  },
  {
   "cell_type": "code",
<<<<<<< Updated upstream
   "execution_count": null,
   "id": "05cd81e5-295f-4758-834f-57cd80c75c84",
   "metadata": {},
   "outputs": [],
=======
   "execution_count": 57,
   "id": "05cd81e5-295f-4758-834f-57cd80c75c84",
   "metadata": {},
   "outputs": [
    {
     "name": "stdout",
     "output_type": "stream",
     "text": [
      "A house with 2000 square feet would sell for around 330767.7251828544 dollars.\n"
     ]
    }
   ],
>>>>>>> Stashed changes
   "source": [
    "# Make a new prediction:\n",
    "\n",
    "sqft = 2000\n",
    "prediction = make_prediction(sqft, w, b)\n",
    "\n",
    "print(\"A house with\", sqft, \"square feet would sell for around\", prediction, \"dollars.\")"
   ]
  },
  {
   "cell_type": "code",
   "execution_count": null,
   "id": "0d934fb9-bd3e-4ce5-9be5-b7d469a83850",
   "metadata": {},
   "outputs": [],
   "source": []
  },
  {
   "cell_type": "code",
   "execution_count": null,
   "id": "8f56eddf-f07e-4287-9c00-cc5e767a2647",
   "metadata": {},
   "outputs": [],
   "source": []
  }
 ],
 "metadata": {
  "kernelspec": {
   "display_name": "Python 3 (ipykernel)",
   "language": "python",
   "name": "python3"
  },
  "language_info": {
   "codemirror_mode": {
    "name": "ipython",
    "version": 3
   },
   "file_extension": ".py",
   "mimetype": "text/x-python",
   "name": "python",
   "nbconvert_exporter": "python",
   "pygments_lexer": "ipython3",
   "version": "3.8.15"
  }
 },
 "nbformat": 4,
 "nbformat_minor": 5
}
